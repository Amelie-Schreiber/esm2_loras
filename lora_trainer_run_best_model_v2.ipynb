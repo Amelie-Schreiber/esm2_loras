{
 "cells": [
  {
   "cell_type": "code",
   "execution_count": 1,
   "metadata": {},
   "outputs": [
    {
     "name": "stderr",
     "output_type": "stream",
     "text": [
      "Some weights of EsmForTokenClassification were not initialized from the model checkpoint at facebook/esm2_t6_8M_UR50D and are newly initialized: ['classifier.bias', 'classifier.weight']\n",
      "You should probably TRAIN this model on a down-stream task to be able to use it for predictions and inference.\n"
     ]
    },
    {
     "name": "stdout",
     "output_type": "stream",
     "text": [
      "Logits: tensor([[[ 1.3544, -1.8621],\n",
      "         [ 1.5548, -2.0320],\n",
      "         [ 1.5699, -1.9424],\n",
      "         ...,\n",
      "         [ 1.3844, -1.7764],\n",
      "         [ 1.4068, -1.7842],\n",
      "         [ 1.4042, -1.7909]]])\n",
      "Predicted binding sites: [0, 0, 0, 0, 0, 0, 0, 0, 0, 0, 0, 0, 0, 0, 0, 0, 0, 0, 0, 0, 0, 0, 0, 0, 0, 0, 0, 0, 0, 0, 0, 0, 0, 0, 0, 0, 0, 0, 0, 0, 0, 0, 0, 0, 0, 0, 0, 0, 0, 0, 0, 0, 0, 0, 0, 0, 0, 0, 0, 0, 0, 0, 0, 0, 0, 0, 0, 0, 0]\n"
     ]
    }
   ],
   "source": [
    "from transformers import AutoModelForTokenClassification, AutoTokenizer\n",
    "from peft import PeftModel\n",
    "import torch\n",
    "import numpy as np\n",
    "import random\n",
    "\n",
    "\n",
    "\n",
    "# Path to the saved LoRA model\n",
    "model_path = \"esm2_t6_8M-finetuned-lora_2023-08-05_13-46-01\"\n",
    "# ESM2 base model\n",
    "base_model_path = \"facebook/esm2_t6_8M_UR50D\"\n",
    "\n",
    "# Load the model\n",
    "base_model = AutoModelForTokenClassification.from_pretrained(base_model_path)\n",
    "loaded_model = PeftModel.from_pretrained(base_model, model_path)\n",
    "\n",
    "# Load the tokenizer\n",
    "loaded_tokenizer = AutoTokenizer.from_pretrained(model_path)\n",
    "\n",
    "# New unseen protein sequence\n",
    "new_protein_sequence = \"FDLNDFLEQKVLVRMEAIINSMTMKERAKPEIIKGSRKRRIAAGSGMQVQDVNRLLKQFDDMQRMMKKM\"\n",
    "\n",
    "# Tokenize the new sequence\n",
    "inputs = loaded_tokenizer(new_protein_sequence, truncation=True, padding='max_length', max_length=512, return_tensors=\"pt\")\n",
    "\n",
    "# Make predictions\n",
    "with torch.no_grad():\n",
    "    outputs = loaded_model(**inputs)\n",
    "    logits = outputs.logits\n",
    "    predictions = torch.argmax(logits, dim=2)\n",
    "\n",
    "# Print logits for debugging\n",
    "print(\"Logits:\", logits)\n",
    "\n",
    "# Convert predictions to a list\n",
    "predicted_labels = predictions.squeeze().tolist()\n",
    "\n",
    "# Get input IDs to identify padding and special tokens\n",
    "input_ids = inputs['input_ids'].squeeze().tolist()\n",
    "\n",
    "# Define a set of token IDs that correspond to special tokens\n",
    "special_tokens_ids = {loaded_tokenizer.cls_token_id, loaded_tokenizer.pad_token_id, loaded_tokenizer.eos_token_id}\n",
    "\n",
    "# Filter the predicted labels using the special_tokens_ids to remove predictions for special tokens\n",
    "binding_sites = [label for label, token_id in zip(predicted_labels, input_ids) if token_id not in special_tokens_ids]\n",
    "\n",
    "print(\"Predicted binding sites:\", binding_sites)\n"
   ]
  },
  {
   "cell_type": "code",
   "execution_count": 4,
   "metadata": {},
   "outputs": [
    {
     "name": "stderr",
     "output_type": "stream",
     "text": [
      "Some weights of EsmForTokenClassification were not initialized from the model checkpoint at facebook/esm2_t6_8M_UR50D and are newly initialized: ['classifier.bias', 'classifier.weight']\n",
      "You should probably TRAIN this model on a down-stream task to be able to use it for predictions and inference.\n"
     ]
    },
    {
     "name": "stdout",
     "output_type": "stream",
     "text": [
      "Validation Accuracy: 0.9586577181208054\n"
     ]
    }
   ],
   "source": [
    "import torch\n",
    "import numpy as np\n",
    "import xml.etree.ElementTree as ET\n",
    "from torch.utils.data import DataLoader\n",
    "from transformers import AutoTokenizer, EsmForTokenClassification\n",
    "from peft import LoraConfig, get_peft_model, PeftModel\n",
    "from sklearn.metrics import accuracy_score\n",
    "\n",
    "# Load XML file\n",
    "tree = ET.parse('binding_sites.xml')\n",
    "root = tree.getroot()\n",
    "\n",
    "# Define lists to hold sequences and binding site labels\n",
    "sequences = []\n",
    "binding_sites = []\n",
    "\n",
    "# Iterate through the XML and extract the sequences and binding site labels\n",
    "for partner in root.findall('partner'):\n",
    "    for bind_partner in partner.findall('BindPartner'):\n",
    "        sequence = bind_partner.find('proSeq').text\n",
    "        pro_bnd = bind_partner.find('proBnd').text\n",
    "        sites = [1 if char == '+' else 0 for char in pro_bnd]\n",
    "        sequences.append(sequence)\n",
    "        binding_sites.append(sites)\n",
    "\n",
    "tokenizer = AutoTokenizer.from_pretrained(\"facebook/esm2_t6_8M_UR50D\")\n",
    "\n",
    "class ProteinDataset(torch.utils.data.Dataset):\n",
    "    def __init__(self, sequences, binding_sites, tokenizer, max_length=512):\n",
    "        self.sequences = sequences\n",
    "        self.binding_sites = binding_sites\n",
    "        self.tokenizer = tokenizer\n",
    "        self.max_length = max_length\n",
    "\n",
    "    def __len__(self):\n",
    "        return len(self.sequences)\n",
    "\n",
    "    def __getitem__(self, idx):\n",
    "        sequence = self.sequences[idx][:self.max_length]\n",
    "        binding_site = self.binding_sites[idx][:self.max_length]\n",
    "        encoding = self.tokenizer(sequence, truncation=True, padding='max_length', max_length=self.max_length)\n",
    "        encoding['labels'] = binding_site + [-100] * (self.max_length - len(binding_site))\n",
    "        return {key: torch.tensor(val) for key, val in encoding.items()}\n",
    "\n",
    "# Assuming validation dataset was split as done previously\n",
    "val_size = int(0.15 * len(sequences))\n",
    "val_dataset = ProteinDataset(sequences[-val_size:], binding_sites[-val_size:], tokenizer)\n",
    "val_dataloader = DataLoader(val_dataset, batch_size=8)\n",
    "\n",
    "# Model directory where the model is saved\n",
    "model_dir = \"esm2_t6_8M-finetuned-lora_2023-08-05_13-46-01\"\n",
    "\n",
    "# Load the base model\n",
    "base_model = EsmForTokenClassification.from_pretrained(\"facebook/esm2_t6_8M_UR50D\")\n",
    "\n",
    "loaded_model = PeftModel.from_pretrained(base_model, model_dir)\n",
    "\n",
    "# Get the device (CPU or GPU)\n",
    "device = torch.device(\"cuda\" if torch.cuda.is_available() else \"cpu\")\n",
    "\n",
    "# Move the model to the device\n",
    "loaded_model.to(device)\n",
    "\n",
    "# Evaluate the loaded model on the validation dataset\n",
    "loaded_model.eval()\n",
    "all_preds = []\n",
    "all_labels = []\n",
    "for batch in val_dataloader:\n",
    "    inputs = batch['input_ids'].to(device)\n",
    "    attention_mask = batch['attention_mask'].to(device)\n",
    "    labels = batch['labels'].to(device)\n",
    "    with torch.no_grad():\n",
    "        outputs = loaded_model(input_ids=inputs, attention_mask=attention_mask)\n",
    "        preds = torch.argmax(outputs.logits, dim=-1)\n",
    "        all_preds.extend(preds.cpu().tolist())\n",
    "        all_labels.extend(labels.cpu().tolist())\n",
    "\n",
    "# Flatten the lists and remove -100 (padding value)\n",
    "all_preds_flat = [item for sublist in all_preds for item in sublist]\n",
    "all_labels_flat = [item for sublist in all_labels for item in sublist]\n",
    "all_preds_flat = [p for p, l in zip(all_preds_flat, all_labels_flat) if l != -100]\n",
    "all_labels_flat = [l for l in all_labels_flat if l != -100]\n",
    "\n",
    "# Calculate the accuracy\n",
    "accuracy = accuracy_score(all_labels_flat, all_preds_flat)\n",
    "print(f\"Validation Accuracy: {accuracy}\")\n"
   ]
  },
  {
   "cell_type": "code",
   "execution_count": 6,
   "metadata": {},
   "outputs": [
    {
     "name": "stdout",
     "output_type": "stream",
     "text": [
      "Entire Dataset Accuracy: 0.9484533852476746\n"
     ]
    }
   ],
   "source": [
    "# Create the entire dataset using the sequences and binding sites\n",
    "entire_dataset = ProteinDataset(sequences, binding_sites, tokenizer)\n",
    "entire_dataloader = DataLoader(entire_dataset, batch_size=8)\n",
    "\n",
    "# Evaluate the loaded model on the entire dataset\n",
    "loaded_model.eval()  # Ensure the model is in evaluation mode\n",
    "all_preds = []\n",
    "all_labels = []\n",
    "for batch in entire_dataloader:\n",
    "    inputs = batch['input_ids'].to(device)\n",
    "    attention_mask = batch['attention_mask'].to(device)\n",
    "    labels = batch['labels'].to(device)\n",
    "    with torch.no_grad():\n",
    "        outputs = loaded_model(input_ids=inputs, attention_mask=attention_mask)\n",
    "        preds = torch.argmax(outputs.logits, dim=-1)\n",
    "        all_preds.extend(preds.cpu().tolist())\n",
    "        all_labels.extend(labels.cpu().tolist())\n",
    "\n",
    "# Flatten the lists and remove -100 (padding value)\n",
    "all_preds_flat = [item for sublist in all_preds for item in sublist]\n",
    "all_labels_flat = [item for sublist in all_labels for item in sublist]\n",
    "all_preds_flat = [p for p, l in zip(all_preds_flat, all_labels_flat) if l != -100]\n",
    "all_labels_flat = [l for l in all_labels_flat if l != -100]\n",
    "\n",
    "# Calculate the accuracy\n",
    "accuracy = accuracy_score(all_labels_flat, all_preds_flat)\n",
    "print(f\"Entire Dataset Accuracy: {accuracy}\")\n"
   ]
  }
 ],
 "metadata": {
  "kernelspec": {
   "display_name": "lora_esm_2",
   "language": "python",
   "name": "python3"
  },
  "language_info": {
   "codemirror_mode": {
    "name": "ipython",
    "version": 3
   },
   "file_extension": ".py",
   "mimetype": "text/x-python",
   "name": "python",
   "nbconvert_exporter": "python",
   "pygments_lexer": "ipython3",
   "version": "3.9.16"
  },
  "orig_nbformat": 4
 },
 "nbformat": 4,
 "nbformat_minor": 2
}
