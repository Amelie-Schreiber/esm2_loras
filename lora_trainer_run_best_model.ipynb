{
 "cells": [
  {
   "cell_type": "code",
   "execution_count": 6,
   "metadata": {},
   "outputs": [
    {
     "name": "stderr",
     "output_type": "stream",
     "text": [
      "Some weights of the model checkpoint at esm2_t6_8M-finetuned-lora_2023-08-03_18-32-25 were not used when initializing EsmForTokenClassification: ['base_model.model.esm.encoder.layer.4.attention.LayerNorm.bias', 'base_model.model.esm.encoder.layer.0.LayerNorm.weight', 'base_model.model.esm.encoder.layer.5.attention.self.query.lora_A.default.weight', 'base_model.model.esm.encoder.layer.0.attention.self.value.bias', 'base_model.model.esm.encoder.layer.1.attention.output.dense.bias', 'base_model.model.esm.encoder.layer.2.attention.self.rotary_embeddings.inv_freq', 'base_model.model.esm.encoder.layer.4.intermediate.dense.weight', 'base_model.model.esm.encoder.layer.0.intermediate.dense.bias', 'base_model.model.esm.encoder.layer.0.attention.self.key.weight', 'base_model.model.esm.encoder.layer.1.output.dense.bias', 'base_model.model.esm.encoder.layer.4.attention.self.key.lora_A.default.weight', 'base_model.model.esm.encoder.layer.3.attention.self.key.weight', 'base_model.model.esm.encoder.layer.1.LayerNorm.weight', 'base_model.model.esm.encoder.layer.3.LayerNorm.weight', 'base_model.model.esm.encoder.layer.0.attention.self.query.lora_B.default.weight', 'base_model.model.esm.encoder.layer.5.output.dense.bias', 'base_model.model.esm.encoder.layer.5.intermediate.dense.weight', 'base_model.model.esm.encoder.layer.4.attention.self.value.weight', 'base_model.model.esm.encoder.layer.4.attention.self.query.bias', 'base_model.model.esm.encoder.layer.2.attention.output.dense.weight', 'base_model.model.esm.encoder.layer.3.attention.self.query.weight', 'base_model.model.esm.encoder.layer.2.LayerNorm.weight', 'base_model.model.esm.encoder.layer.2.attention.self.query.lora_A.default.weight', 'base_model.model.esm.encoder.layer.5.attention.self.key.weight', 'base_model.model.esm.encoder.layer.1.attention.self.value.bias', 'base_model.model.esm.encoder.layer.0.output.dense.weight', 'base_model.model.esm.encoder.layer.2.attention.self.key.weight', 'base_model.model.esm.embeddings.position_embeddings.weight', 'base_model.model.esm.encoder.layer.2.intermediate.dense.weight', 'base_model.model.esm.encoder.layer.1.attention.self.query.bias', 'base_model.model.esm.encoder.layer.4.attention.self.query.lora_B.default.weight', 'base_model.model.esm.encoder.layer.5.attention.self.query.lora_B.default.weight', 'base_model.model.esm.encoder.layer.4.LayerNorm.weight', 'base_model.model.esm.encoder.layer.5.LayerNorm.weight', 'base_model.model.esm.encoder.layer.0.attention.self.key.lora_B.default.weight', 'base_model.model.esm.encoder.layer.1.attention.self.query.weight', 'base_model.model.esm.encoder.layer.2.attention.self.query.weight', 'base_model.model.esm.encoder.emb_layer_norm_after.weight', 'base_model.model.esm.encoder.layer.4.attention.output.dense.weight', 'base_model.model.esm.encoder.layer.1.attention.self.key.lora_A.default.weight', 'base_model.model.esm.encoder.layer.1.attention.self.value.lora_B.default.weight', 'base_model.model.esm.encoder.layer.5.attention.LayerNorm.weight', 'base_model.model.esm.encoder.layer.3.output.dense.bias', 'base_model.model.esm.embeddings.word_embeddings.weight', 'base_model.model.esm.encoder.layer.3.attention.self.value.weight', 'base_model.model.esm.encoder.layer.3.attention.self.value.bias', 'base_model.model.esm.encoder.layer.4.attention.self.key.lora_B.default.weight', 'base_model.model.esm.encoder.layer.3.attention.self.query.lora_A.default.weight', 'base_model.model.esm.encoder.layer.3.attention.self.key.lora_A.default.weight', 'base_model.model.esm.contact_head.regression.weight', 'base_model.model.esm.encoder.layer.4.attention.self.value.lora_A.default.weight', 'base_model.model.esm.encoder.layer.0.attention.self.value.lora_A.default.weight', 'base_model.model.esm.encoder.layer.4.LayerNorm.bias', 'base_model.model.esm.encoder.layer.5.attention.LayerNorm.bias', 'base_model.model.esm.encoder.layer.0.attention.self.query.weight', 'base_model.model.esm.encoder.layer.3.attention.output.dense.bias', 'base_model.model.esm.encoder.layer.4.attention.output.dense.bias', 'base_model.model.esm.encoder.layer.4.attention.self.key.bias', 'base_model.model.esm.encoder.layer.3.attention.LayerNorm.bias', 'base_model.model.esm.encoder.layer.3.LayerNorm.bias', 'base_model.model.esm.encoder.layer.1.attention.self.rotary_embeddings.inv_freq', 'base_model.model.esm.encoder.layer.0.attention.self.query.bias', 'base_model.model.esm.encoder.layer.4.intermediate.dense.bias', 'base_model.model.esm.encoder.layer.1.attention.self.value.weight', 'base_model.model.esm.encoder.layer.1.output.dense.weight', 'base_model.model.esm.encoder.layer.0.attention.self.value.weight', 'base_model.model.esm.encoder.layer.3.attention.LayerNorm.weight', 'base_model.model.esm.encoder.layer.0.attention.self.rotary_embeddings.inv_freq', 'base_model.model.esm.encoder.layer.1.attention.self.key.bias', 'base_model.model.esm.encoder.layer.0.intermediate.dense.weight', 'base_model.model.esm.encoder.layer.0.attention.output.dense.bias', 'base_model.model.esm.encoder.layer.5.intermediate.dense.bias', 'base_model.model.esm.encoder.layer.0.attention.self.key.lora_A.default.weight', 'base_model.model.esm.encoder.layer.3.attention.self.query.bias', 'base_model.model.esm.encoder.emb_layer_norm_after.bias', 'base_model.model.esm.encoder.layer.5.attention.self.query.bias', 'base_model.model.esm.encoder.layer.1.attention.output.dense.weight', 'base_model.model.esm.encoder.layer.5.attention.self.key.lora_A.default.weight', 'base_model.model.esm.encoder.layer.5.attention.self.key.lora_B.default.weight', 'base_model.model.esm.encoder.layer.3.attention.self.value.lora_B.default.weight', 'base_model.model.esm.encoder.layer.3.attention.output.dense.weight', 'base_model.model.esm.encoder.layer.1.attention.LayerNorm.bias', 'base_model.model.esm.contact_head.regression.bias', 'base_model.model.esm.encoder.layer.4.attention.LayerNorm.weight', 'base_model.model.esm.encoder.layer.2.attention.self.key.bias', 'base_model.model.esm.encoder.layer.1.LayerNorm.bias', 'base_model.model.esm.encoder.layer.2.attention.self.key.lora_B.default.weight', 'base_model.model.esm.encoder.layer.2.output.dense.weight', 'base_model.model.esm.encoder.layer.4.attention.self.value.bias', 'base_model.model.esm.encoder.layer.2.intermediate.dense.bias', 'base_model.model.esm.encoder.layer.2.attention.self.value.lora_B.default.weight', 'base_model.model.esm.encoder.layer.4.output.dense.bias', 'base_model.model.esm.encoder.layer.3.intermediate.dense.bias', 'base_model.model.esm.encoder.layer.5.attention.self.key.bias', 'base_model.model.esm.encoder.layer.5.output.dense.weight', 'base_model.model.esm.encoder.layer.1.intermediate.dense.bias', 'base_model.model.esm.encoder.layer.2.attention.self.value.bias', 'base_model.model.classifier.modules_to_save.default.bias', 'base_model.model.esm.encoder.layer.0.output.dense.bias', 'base_model.model.esm.encoder.layer.1.intermediate.dense.weight', 'base_model.model.esm.encoder.layer.0.attention.LayerNorm.weight', 'base_model.model.esm.encoder.layer.5.attention.self.value.lora_B.default.weight', 'base_model.model.esm.encoder.layer.2.attention.output.dense.bias', 'base_model.model.esm.encoder.layer.5.attention.output.dense.bias', 'base_model.model.esm.encoder.layer.2.attention.self.key.lora_A.default.weight', 'base_model.model.esm.encoder.layer.5.attention.self.rotary_embeddings.inv_freq', 'base_model.model.esm.encoder.layer.1.attention.self.key.lora_B.default.weight', 'base_model.model.classifier.modules_to_save.default.weight', 'base_model.model.esm.encoder.layer.5.attention.output.dense.weight', 'base_model.model.esm.encoder.layer.0.attention.self.query.lora_A.default.weight', 'base_model.model.esm.encoder.layer.5.attention.self.query.weight', 'base_model.model.esm.encoder.layer.3.attention.self.query.lora_B.default.weight', 'base_model.model.esm.encoder.layer.1.attention.self.query.lora_A.default.weight', 'base_model.model.esm.encoder.layer.4.output.dense.weight', 'base_model.model.esm.encoder.layer.1.attention.self.query.lora_B.default.weight', 'base_model.model.esm.encoder.layer.2.LayerNorm.bias', 'base_model.model.esm.encoder.layer.5.attention.self.value.lora_A.default.weight', 'base_model.model.esm.encoder.layer.5.LayerNorm.bias', 'base_model.model.classifier.original_module.bias', 'base_model.model.esm.encoder.layer.3.output.dense.weight', 'base_model.model.esm.encoder.layer.3.intermediate.dense.weight', 'base_model.model.esm.encoder.layer.2.attention.self.query.bias', 'base_model.model.esm.encoder.layer.2.attention.self.value.lora_A.default.weight', 'base_model.model.esm.encoder.layer.0.attention.output.dense.weight', 'base_model.model.esm.encoder.layer.3.attention.self.key.lora_B.default.weight', 'base_model.model.esm.encoder.layer.4.attention.self.value.lora_B.default.weight', 'base_model.model.classifier.original_module.weight', 'base_model.model.esm.embeddings.position_ids', 'base_model.model.esm.encoder.layer.2.attention.LayerNorm.bias', 'base_model.model.esm.encoder.layer.1.attention.LayerNorm.weight', 'base_model.model.esm.encoder.layer.4.attention.self.query.weight', 'base_model.model.esm.encoder.layer.2.attention.LayerNorm.weight', 'base_model.model.esm.encoder.layer.0.attention.self.key.bias', 'base_model.model.esm.encoder.layer.0.LayerNorm.bias', 'base_model.model.esm.encoder.layer.3.attention.self.value.lora_A.default.weight', 'base_model.model.esm.encoder.layer.4.attention.self.rotary_embeddings.inv_freq', 'base_model.model.esm.encoder.layer.5.attention.self.value.bias', 'base_model.model.esm.encoder.layer.2.output.dense.bias', 'base_model.model.esm.encoder.layer.0.attention.self.value.lora_B.default.weight', 'base_model.model.esm.encoder.layer.4.attention.self.key.weight', 'base_model.model.esm.encoder.layer.4.attention.self.query.lora_A.default.weight', 'base_model.model.esm.encoder.layer.5.attention.self.value.weight', 'base_model.model.esm.encoder.layer.1.attention.self.value.lora_A.default.weight', 'base_model.model.esm.encoder.layer.3.attention.self.key.bias', 'base_model.model.esm.encoder.layer.1.attention.self.key.weight', 'base_model.model.esm.encoder.layer.2.attention.self.value.weight', 'base_model.model.esm.encoder.layer.2.attention.self.query.lora_B.default.weight', 'base_model.model.esm.encoder.layer.3.attention.self.rotary_embeddings.inv_freq', 'base_model.model.esm.encoder.layer.0.attention.LayerNorm.bias']\n",
      "- This IS expected if you are initializing EsmForTokenClassification from the checkpoint of a model trained on another task or with another architecture (e.g. initializing a BertForSequenceClassification model from a BertForPreTraining model).\n",
      "- This IS NOT expected if you are initializing EsmForTokenClassification from the checkpoint of a model that you expect to be exactly identical (initializing a BertForSequenceClassification model from a BertForSequenceClassification model).\n",
      "Some weights of EsmForTokenClassification were not initialized from the model checkpoint at esm2_t6_8M-finetuned-lora_2023-08-03_18-32-25 and are newly initialized: ['classifier.bias', 'classifier.weight']\n",
      "You should probably TRAIN this model on a down-stream task to be able to use it for predictions and inference.\n"
     ]
    }
   ],
   "source": [
    "from transformers import AutoModelForTokenClassification, AutoTokenizer\n",
    "\n",
    "# Path to the saved model\n",
    "model_path = \"esm2_t6_8M-finetuned-lora_2023-08-03_18-32-25\"\n",
    "\n",
    "# Load the model\n",
    "loaded_model = AutoModelForTokenClassification.from_pretrained(model_path)\n",
    "\n",
    "# Load the tokenizer\n",
    "loaded_tokenizer = AutoTokenizer.from_pretrained(model_path)"
   ]
  },
  {
   "cell_type": "code",
   "execution_count": 7,
   "metadata": {},
   "outputs": [
    {
     "name": "stdout",
     "output_type": "stream",
     "text": [
      "Predicted binding sites: [1, 1, 1, 1, 1, 1, 1, 1, 1, 1, 1, 1, 1, 1, 1, 1, 1, 1, 1, 1, 1, 1, 1, 1, 1, 1, 1, 1, 1, 1, 1, 1, 1, 1, 1, 1, 1, 1, 1, 1, 1, 1, 1, 1, 1, 1, 1, 1, 1, 1, 1, 1, 1, 1, 1, 1, 1, 1, 1, 1, 1, 1, 1, 1, 1, 1, 1, 1, 1, 1, 1, 1, 1, 1, 1, 1, 1, 1, 1, 1, 1, 1, 1, 1, 1, 1, 1, 1, 1, 1, 1, 1, 1, 1, 1, 1, 1, 1, 1, 1, 1, 1, 1, 1, 1, 1, 1, 1, 1, 1, 1, 1, 1, 1, 1, 1, 1, 1, 1, 1, 1, 1, 1, 1, 1, 1, 1, 1, 1, 1, 1, 1, 1, 1, 1, 1, 1, 1, 1, 1, 1, 1, 1, 1, 1, 1, 1, 1, 1, 1, 1, 1, 1, 1, 1, 1, 1, 1, 1, 1, 1, 1, 1, 1, 1, 1, 1, 1, 1, 1, 1, 1, 1, 1, 1, 1, 1, 1, 1, 1, 1, 1, 1, 1, 1, 1, 1, 1, 1, 1, 1, 1, 1, 1, 1, 1, 1, 1, 1, 1, 1, 1, 1, 1, 1, 1, 1, 1, 1, 1, 1, 1, 1, 1, 1, 1, 1, 1, 1, 1, 1, 1, 1, 1, 1, 1, 1, 1, 1, 1, 1, 1, 1, 1, 1, 1, 1, 1, 1, 1, 1, 1, 1, 1, 1, 1, 1, 1, 1, 1, 1, 1, 1, 1, 1, 1, 1, 1, 1, 1, 1, 1, 1, 1, 1, 1, 1, 1, 1, 1, 1, 1, 1, 1, 1, 1, 1, 1, 1, 1, 1, 1, 1, 1, 1, 1, 1, 1, 1, 1, 1, 1, 1, 1, 1, 1, 1, 1, 1, 1, 1, 1, 1, 1, 1, 1, 1, 1, 1, 1, 1, 1, 1, 1, 1, 1, 1, 1, 1, 1, 1, 1, 1, 1, 1, 1, 1, 1, 1, 1, 1, 1, 1, 1, 1, 1, 1, 1, 1, 1, 1, 1, 1, 1, 1, 1, 1, 1, 1, 1, 1, 1, 1, 1, 1, 1, 1, 1, 1, 1, 1, 1, 1, 1, 1, 1, 1, 1, 1, 1, 1, 1, 1, 1, 1, 1, 1, 1, 1, 1, 1, 1, 1, 1, 1, 1, 1, 1, 1, 1, 1, 1, 1, 1, 1, 1, 1, 1, 1, 1, 1, 1, 1, 1, 1, 1, 1, 1, 1, 1, 1, 1, 1, 1, 1, 1, 1, 1, 1, 1, 1, 1, 1, 1, 1, 1, 1, 1, 1, 1, 1, 1, 1, 1, 1, 1, 1, 1, 1, 1, 1, 1, 1, 1, 1, 1, 1, 1, 1, 1, 1, 1, 1, 1, 1, 1, 1, 1, 1, 1, 1, 1, 1, 1, 1, 1, 1, 1, 1, 1, 1, 1, 1, 1, 1, 1, 1, 1, 1, 1, 1, 1, 1, 1, 1, 1, 1, 1, 1, 1, 1, 1, 1, 1, 1, 1, 1, 1, 1, 1, 1, 1, 1, 1, 1, 1, 1, 1, 1, 1, 1, 1, 1, 1, 1, 1, 1, 1, 1, 1, 1, 1, 1, 1, 1, 1, 1, 1, 1, 1, 1, 1, 1, 1, 1, 1, 1, 1, 1, 1, 1, 1, 1, 1, 1, 1, 1, 1, 1, 1, 1, 1, 1, 1, 1, 1, 1, 1, 1, 1, 1, 1, 1, 1, 1, 1, 1, 1, 1, 1, 1, 1, 1, 1, 1, 1, 1, 1, 1, 1, 1, 1, 1, 1, 1, 1, 1, 1, 1, 1, 1, 1, 1, 1, 1, 1, 1, 1, 1, 1, 1, 1, 1, 1, 1, 1, 1, 1, 1, 1, 1, 1, 1, 1, 1, 1, 1, 1, 1, 1, 1, 1, 1, 1, 1, 1, 1, 1, 1, 1, 1, 1, 1, 1, 1, 1, 1, 1, 1, 1, 1, 1, 1, 1, 1, 1, 1, 1, 1, 1, 1, 1, 1, 1, 1, 1, 1, 1, 1, 1, 1, 1, 1, 1, 1, 1, 1, 1, 1, 1, 1, 1, 1, 1, 1, 1, 1, 1, 1, 1, 1, 1, 1, 1, 1, 1, 1, 1, 1, 1, 1, 1, 1, 1, 1, 1, 1, 1, 1, 1, 1, 1, 1, 1, 1, 1, 1, 1, 1, 1, 1, 1, 1, 1, 1, 1, 1, 1, 1, 1, 1, 1, 1, 1, 1, 1, 1, 1, 1, 1, 1, 1, 1, 1, 1, 1, 1, 1, 1, 1, 1, 1, 1, 1, 1, 1, 1, 1, 1, 1, 1, 1, 1, 1, 1, 1, 1, 1, 1, 1, 1, 1, 1, 1, 1, 1, 1, 1, 1, 1, 1, 1, 1, 1, 1, 1, 1, 1, 1, 1, 1, 1, 1, 1, 1, 1, 1, 1, 1, 1, 1, 1, 1, 1, 1, 1, 1, 1, 1, 1, 1, 1, 1, 1, 1, 1, 1, 1, 1, 1, 1, 1, 1, 1, 1, 1, 1, 1, 1, 1, 1, 1, 1, 1, 1, 1, 1, 1, 1, 1, 1, 1, 1, 1, 1, 1, 1, 1, 1, 1, 1, 1, 1, 1, 1, 1, 1, 1, 1, 1, 1, 1, 1, 1, 1, 1, 1, 1, 1, 1, 1, 1, 1, 1, 1, 1, 1, 1, 1, 1, 1, 1, 1, 1, 1, 1, 1, 1, 1, 1, 1, 1, 1, 1, 1, 1, 1, 1, 1, 1, 1, 1, 1, 1, 1, 1, 1, 1, 1, 1, 1, 1, 1, 1, 1, 1, 1, 1, 1, 1, 1, 1, 1, 1, 1, 1, 1, 1, 1, 1, 1, 1, 1, 1, 1, 1, 1, 1, 1, 1, 1, 1, 1, 1, 1, 1, 1, 1, 1, 1, 1, 1, 1, 1, 1, 1, 1, 1, 1, 1, 1, 1, 1, 1, 1, 1, 1, 1, 1, 1, 1, 1, 1, 1, 1, 1, 1, 1, 1, 1, 1, 1, 1, 1, 1, 1, 1, 1, 1, 1, 1, 1, 1, 1, 1, 1, 1, 1, 1, 1, 1, 1, 1, 1, 1, 1, 1, 1, 1, 1, 1, 1, 1, 1, 1, 1, 1, 1, 1, 1, 1, 1, 1, 1, 1, 1, 1, 1, 1, 1, 1, 1, 1, 1]\n"
     ]
    }
   ],
   "source": [
    "import torch \n",
    "\n",
    "# New unseen protein sequence\n",
    "new_protein_sequence = \"MADSEQNSEWKEVKEQKANRGW\"\n",
    "\n",
    "# Tokenize the new sequence\n",
    "inputs = loaded_tokenizer(new_protein_sequence, truncation=True, padding='max_length', max_length=1024, return_tensors=\"pt\")\n",
    "\n",
    "# Make predictions\n",
    "with torch.no_grad():\n",
    "    outputs = loaded_model(**inputs)\n",
    "    logits = outputs.logits\n",
    "    predictions = torch.argmax(logits, dim=2)\n",
    "\n",
    "# Convert predictions to a list\n",
    "predicted_labels = predictions.squeeze().tolist()\n",
    "\n",
    "# Interpret the predicted labels (e.g., binding sites)\n",
    "binding_sites = [1 if label == 1 else 0 for label in predicted_labels]\n",
    "\n",
    "print(\"Predicted binding sites:\", binding_sites)\n"
   ]
  },
  {
   "cell_type": "code",
   "execution_count": 16,
   "metadata": {},
   "outputs": [
    {
     "name": "stderr",
     "output_type": "stream",
     "text": [
      "Some weights of the model checkpoint at esm2_t6_8M-finetuned-lora_2023-08-03_18-32-25 were not used when initializing EsmForTokenClassification: ['base_model.model.esm.encoder.layer.4.attention.LayerNorm.bias', 'base_model.model.esm.encoder.layer.0.LayerNorm.weight', 'base_model.model.esm.encoder.layer.5.attention.self.query.lora_A.default.weight', 'base_model.model.esm.encoder.layer.0.attention.self.value.bias', 'base_model.model.esm.encoder.layer.1.attention.output.dense.bias', 'base_model.model.esm.encoder.layer.2.attention.self.rotary_embeddings.inv_freq', 'base_model.model.esm.encoder.layer.4.intermediate.dense.weight', 'base_model.model.esm.encoder.layer.0.intermediate.dense.bias', 'base_model.model.esm.encoder.layer.0.attention.self.key.weight', 'base_model.model.esm.encoder.layer.1.output.dense.bias', 'base_model.model.esm.encoder.layer.4.attention.self.key.lora_A.default.weight', 'base_model.model.esm.encoder.layer.3.attention.self.key.weight', 'base_model.model.esm.encoder.layer.1.LayerNorm.weight', 'base_model.model.esm.encoder.layer.3.LayerNorm.weight', 'base_model.model.esm.encoder.layer.0.attention.self.query.lora_B.default.weight', 'base_model.model.esm.encoder.layer.5.output.dense.bias', 'base_model.model.esm.encoder.layer.5.intermediate.dense.weight', 'base_model.model.esm.encoder.layer.4.attention.self.value.weight', 'base_model.model.esm.encoder.layer.4.attention.self.query.bias', 'base_model.model.esm.encoder.layer.2.attention.output.dense.weight', 'base_model.model.esm.encoder.layer.3.attention.self.query.weight', 'base_model.model.esm.encoder.layer.2.LayerNorm.weight', 'base_model.model.esm.encoder.layer.2.attention.self.query.lora_A.default.weight', 'base_model.model.esm.encoder.layer.5.attention.self.key.weight', 'base_model.model.esm.encoder.layer.1.attention.self.value.bias', 'base_model.model.esm.encoder.layer.0.output.dense.weight', 'base_model.model.esm.encoder.layer.2.attention.self.key.weight', 'base_model.model.esm.embeddings.position_embeddings.weight', 'base_model.model.esm.encoder.layer.2.intermediate.dense.weight', 'base_model.model.esm.encoder.layer.1.attention.self.query.bias', 'base_model.model.esm.encoder.layer.4.attention.self.query.lora_B.default.weight', 'base_model.model.esm.encoder.layer.5.attention.self.query.lora_B.default.weight', 'base_model.model.esm.encoder.layer.4.LayerNorm.weight', 'base_model.model.esm.encoder.layer.5.LayerNorm.weight', 'base_model.model.esm.encoder.layer.0.attention.self.key.lora_B.default.weight', 'base_model.model.esm.encoder.layer.1.attention.self.query.weight', 'base_model.model.esm.encoder.layer.2.attention.self.query.weight', 'base_model.model.esm.encoder.emb_layer_norm_after.weight', 'base_model.model.esm.encoder.layer.4.attention.output.dense.weight', 'base_model.model.esm.encoder.layer.1.attention.self.key.lora_A.default.weight', 'base_model.model.esm.encoder.layer.1.attention.self.value.lora_B.default.weight', 'base_model.model.esm.encoder.layer.5.attention.LayerNorm.weight', 'base_model.model.esm.encoder.layer.3.output.dense.bias', 'base_model.model.esm.embeddings.word_embeddings.weight', 'base_model.model.esm.encoder.layer.3.attention.self.value.weight', 'base_model.model.esm.encoder.layer.3.attention.self.value.bias', 'base_model.model.esm.encoder.layer.4.attention.self.key.lora_B.default.weight', 'base_model.model.esm.encoder.layer.3.attention.self.query.lora_A.default.weight', 'base_model.model.esm.encoder.layer.3.attention.self.key.lora_A.default.weight', 'base_model.model.esm.contact_head.regression.weight', 'base_model.model.esm.encoder.layer.4.attention.self.value.lora_A.default.weight', 'base_model.model.esm.encoder.layer.0.attention.self.value.lora_A.default.weight', 'base_model.model.esm.encoder.layer.4.LayerNorm.bias', 'base_model.model.esm.encoder.layer.5.attention.LayerNorm.bias', 'base_model.model.esm.encoder.layer.0.attention.self.query.weight', 'base_model.model.esm.encoder.layer.3.attention.output.dense.bias', 'base_model.model.esm.encoder.layer.4.attention.output.dense.bias', 'base_model.model.esm.encoder.layer.4.attention.self.key.bias', 'base_model.model.esm.encoder.layer.3.attention.LayerNorm.bias', 'base_model.model.esm.encoder.layer.3.LayerNorm.bias', 'base_model.model.esm.encoder.layer.1.attention.self.rotary_embeddings.inv_freq', 'base_model.model.esm.encoder.layer.0.attention.self.query.bias', 'base_model.model.esm.encoder.layer.4.intermediate.dense.bias', 'base_model.model.esm.encoder.layer.1.attention.self.value.weight', 'base_model.model.esm.encoder.layer.1.output.dense.weight', 'base_model.model.esm.encoder.layer.0.attention.self.value.weight', 'base_model.model.esm.encoder.layer.3.attention.LayerNorm.weight', 'base_model.model.esm.encoder.layer.0.attention.self.rotary_embeddings.inv_freq', 'base_model.model.esm.encoder.layer.1.attention.self.key.bias', 'base_model.model.esm.encoder.layer.0.intermediate.dense.weight', 'base_model.model.esm.encoder.layer.0.attention.output.dense.bias', 'base_model.model.esm.encoder.layer.5.intermediate.dense.bias', 'base_model.model.esm.encoder.layer.0.attention.self.key.lora_A.default.weight', 'base_model.model.esm.encoder.layer.3.attention.self.query.bias', 'base_model.model.esm.encoder.emb_layer_norm_after.bias', 'base_model.model.esm.encoder.layer.5.attention.self.query.bias', 'base_model.model.esm.encoder.layer.1.attention.output.dense.weight', 'base_model.model.esm.encoder.layer.5.attention.self.key.lora_A.default.weight', 'base_model.model.esm.encoder.layer.5.attention.self.key.lora_B.default.weight', 'base_model.model.esm.encoder.layer.3.attention.self.value.lora_B.default.weight', 'base_model.model.esm.encoder.layer.3.attention.output.dense.weight', 'base_model.model.esm.encoder.layer.1.attention.LayerNorm.bias', 'base_model.model.esm.contact_head.regression.bias', 'base_model.model.esm.encoder.layer.4.attention.LayerNorm.weight', 'base_model.model.esm.encoder.layer.2.attention.self.key.bias', 'base_model.model.esm.encoder.layer.1.LayerNorm.bias', 'base_model.model.esm.encoder.layer.2.attention.self.key.lora_B.default.weight', 'base_model.model.esm.encoder.layer.2.output.dense.weight', 'base_model.model.esm.encoder.layer.4.attention.self.value.bias', 'base_model.model.esm.encoder.layer.2.intermediate.dense.bias', 'base_model.model.esm.encoder.layer.2.attention.self.value.lora_B.default.weight', 'base_model.model.esm.encoder.layer.4.output.dense.bias', 'base_model.model.esm.encoder.layer.3.intermediate.dense.bias', 'base_model.model.esm.encoder.layer.5.attention.self.key.bias', 'base_model.model.esm.encoder.layer.5.output.dense.weight', 'base_model.model.esm.encoder.layer.1.intermediate.dense.bias', 'base_model.model.esm.encoder.layer.2.attention.self.value.bias', 'base_model.model.classifier.modules_to_save.default.bias', 'base_model.model.esm.encoder.layer.0.output.dense.bias', 'base_model.model.esm.encoder.layer.1.intermediate.dense.weight', 'base_model.model.esm.encoder.layer.0.attention.LayerNorm.weight', 'base_model.model.esm.encoder.layer.5.attention.self.value.lora_B.default.weight', 'base_model.model.esm.encoder.layer.2.attention.output.dense.bias', 'base_model.model.esm.encoder.layer.5.attention.output.dense.bias', 'base_model.model.esm.encoder.layer.2.attention.self.key.lora_A.default.weight', 'base_model.model.esm.encoder.layer.5.attention.self.rotary_embeddings.inv_freq', 'base_model.model.esm.encoder.layer.1.attention.self.key.lora_B.default.weight', 'base_model.model.classifier.modules_to_save.default.weight', 'base_model.model.esm.encoder.layer.5.attention.output.dense.weight', 'base_model.model.esm.encoder.layer.0.attention.self.query.lora_A.default.weight', 'base_model.model.esm.encoder.layer.5.attention.self.query.weight', 'base_model.model.esm.encoder.layer.3.attention.self.query.lora_B.default.weight', 'base_model.model.esm.encoder.layer.1.attention.self.query.lora_A.default.weight', 'base_model.model.esm.encoder.layer.4.output.dense.weight', 'base_model.model.esm.encoder.layer.1.attention.self.query.lora_B.default.weight', 'base_model.model.esm.encoder.layer.2.LayerNorm.bias', 'base_model.model.esm.encoder.layer.5.attention.self.value.lora_A.default.weight', 'base_model.model.esm.encoder.layer.5.LayerNorm.bias', 'base_model.model.classifier.original_module.bias', 'base_model.model.esm.encoder.layer.3.output.dense.weight', 'base_model.model.esm.encoder.layer.3.intermediate.dense.weight', 'base_model.model.esm.encoder.layer.2.attention.self.query.bias', 'base_model.model.esm.encoder.layer.2.attention.self.value.lora_A.default.weight', 'base_model.model.esm.encoder.layer.0.attention.output.dense.weight', 'base_model.model.esm.encoder.layer.3.attention.self.key.lora_B.default.weight', 'base_model.model.esm.encoder.layer.4.attention.self.value.lora_B.default.weight', 'base_model.model.classifier.original_module.weight', 'base_model.model.esm.embeddings.position_ids', 'base_model.model.esm.encoder.layer.2.attention.LayerNorm.bias', 'base_model.model.esm.encoder.layer.1.attention.LayerNorm.weight', 'base_model.model.esm.encoder.layer.4.attention.self.query.weight', 'base_model.model.esm.encoder.layer.2.attention.LayerNorm.weight', 'base_model.model.esm.encoder.layer.0.attention.self.key.bias', 'base_model.model.esm.encoder.layer.0.LayerNorm.bias', 'base_model.model.esm.encoder.layer.3.attention.self.value.lora_A.default.weight', 'base_model.model.esm.encoder.layer.4.attention.self.rotary_embeddings.inv_freq', 'base_model.model.esm.encoder.layer.5.attention.self.value.bias', 'base_model.model.esm.encoder.layer.2.output.dense.bias', 'base_model.model.esm.encoder.layer.0.attention.self.value.lora_B.default.weight', 'base_model.model.esm.encoder.layer.4.attention.self.key.weight', 'base_model.model.esm.encoder.layer.4.attention.self.query.lora_A.default.weight', 'base_model.model.esm.encoder.layer.5.attention.self.value.weight', 'base_model.model.esm.encoder.layer.1.attention.self.value.lora_A.default.weight', 'base_model.model.esm.encoder.layer.3.attention.self.key.bias', 'base_model.model.esm.encoder.layer.1.attention.self.key.weight', 'base_model.model.esm.encoder.layer.2.attention.self.value.weight', 'base_model.model.esm.encoder.layer.2.attention.self.query.lora_B.default.weight', 'base_model.model.esm.encoder.layer.3.attention.self.rotary_embeddings.inv_freq', 'base_model.model.esm.encoder.layer.0.attention.LayerNorm.bias']\n",
      "- This IS expected if you are initializing EsmForTokenClassification from the checkpoint of a model trained on another task or with another architecture (e.g. initializing a BertForSequenceClassification model from a BertForPreTraining model).\n",
      "- This IS NOT expected if you are initializing EsmForTokenClassification from the checkpoint of a model that you expect to be exactly identical (initializing a BertForSequenceClassification model from a BertForSequenceClassification model).\n",
      "Some weights of EsmForTokenClassification were not initialized from the model checkpoint at esm2_t6_8M-finetuned-lora_2023-08-03_18-32-25 and are newly initialized: ['classifier.bias', 'classifier.weight']\n",
      "You should probably TRAIN this model on a down-stream task to be able to use it for predictions and inference.\n"
     ]
    },
    {
     "name": "stdout",
     "output_type": "stream",
     "text": [
      "Predicted binding sites: [1, 1, 1, 1, 1, 1, 1, 1, 1, 1, 1, 1, 1, 1, 1, 1, 1, 1, 1, 1, 1, 1, 1, 1]\n"
     ]
    }
   ],
   "source": [
    "from transformers import AutoModelForTokenClassification, AutoTokenizer\n",
    "import torch\n",
    "\n",
    "# Path to the saved model\n",
    "model_path = \"esm2_t6_8M-finetuned-lora_2023-08-03_18-32-25\"\n",
    "\n",
    "# Load the model\n",
    "loaded_model = AutoModelForTokenClassification.from_pretrained(model_path)\n",
    "\n",
    "# Load the tokenizer\n",
    "loaded_tokenizer = AutoTokenizer.from_pretrained(model_path)\n",
    "\n",
    "# New unseen protein sequence\n",
    "new_protein_sequence = \"MADSEQNSEWKEVKEQKANRGW\"\n",
    "\n",
    "# Tokenize the new sequence\n",
    "inputs = loaded_tokenizer(new_protein_sequence, truncation=True, padding='max_length', max_length=512, return_tensors=\"pt\")\n",
    "\n",
    "# Make predictions\n",
    "with torch.no_grad():\n",
    "    outputs = loaded_model(**inputs)\n",
    "    logits = outputs.logits\n",
    "    predictions = torch.argmax(logits, dim=2)\n",
    "\n",
    "# Convert predictions to a list\n",
    "predicted_labels = predictions.squeeze().tolist()\n",
    "\n",
    "# Get input IDs to identify padding tokens\n",
    "input_ids = inputs['input_ids'].squeeze().tolist()\n",
    "\n",
    "# Filter the predicted labels using the pad_token_id to remove padding tokens\n",
    "binding_sites = [label for label, token_id in zip(predicted_labels, input_ids) if token_id != loaded_tokenizer.pad_token_id]\n",
    "\n",
    "print(\"Predicted binding sites:\", binding_sites)\n"
   ]
  },
  {
   "cell_type": "code",
   "execution_count": 51,
   "metadata": {},
   "outputs": [
    {
     "name": "stderr",
     "output_type": "stream",
     "text": [
      "Some weights of the model checkpoint at esm2_t6_8M-finetuned-lora_2023-08-03_18-32-25 were not used when initializing EsmForTokenClassification: ['base_model.model.esm.encoder.layer.4.attention.LayerNorm.bias', 'base_model.model.esm.encoder.layer.0.LayerNorm.weight', 'base_model.model.esm.encoder.layer.5.attention.self.query.lora_A.default.weight', 'base_model.model.esm.encoder.layer.0.attention.self.value.bias', 'base_model.model.esm.encoder.layer.1.attention.output.dense.bias', 'base_model.model.esm.encoder.layer.2.attention.self.rotary_embeddings.inv_freq', 'base_model.model.esm.encoder.layer.4.intermediate.dense.weight', 'base_model.model.esm.encoder.layer.0.intermediate.dense.bias', 'base_model.model.esm.encoder.layer.0.attention.self.key.weight', 'base_model.model.esm.encoder.layer.1.output.dense.bias', 'base_model.model.esm.encoder.layer.4.attention.self.key.lora_A.default.weight', 'base_model.model.esm.encoder.layer.3.attention.self.key.weight', 'base_model.model.esm.encoder.layer.1.LayerNorm.weight', 'base_model.model.esm.encoder.layer.3.LayerNorm.weight', 'base_model.model.esm.encoder.layer.0.attention.self.query.lora_B.default.weight', 'base_model.model.esm.encoder.layer.5.output.dense.bias', 'base_model.model.esm.encoder.layer.5.intermediate.dense.weight', 'base_model.model.esm.encoder.layer.4.attention.self.value.weight', 'base_model.model.esm.encoder.layer.4.attention.self.query.bias', 'base_model.model.esm.encoder.layer.2.attention.output.dense.weight', 'base_model.model.esm.encoder.layer.3.attention.self.query.weight', 'base_model.model.esm.encoder.layer.2.LayerNorm.weight', 'base_model.model.esm.encoder.layer.2.attention.self.query.lora_A.default.weight', 'base_model.model.esm.encoder.layer.5.attention.self.key.weight', 'base_model.model.esm.encoder.layer.1.attention.self.value.bias', 'base_model.model.esm.encoder.layer.0.output.dense.weight', 'base_model.model.esm.encoder.layer.2.attention.self.key.weight', 'base_model.model.esm.embeddings.position_embeddings.weight', 'base_model.model.esm.encoder.layer.2.intermediate.dense.weight', 'base_model.model.esm.encoder.layer.1.attention.self.query.bias', 'base_model.model.esm.encoder.layer.4.attention.self.query.lora_B.default.weight', 'base_model.model.esm.encoder.layer.5.attention.self.query.lora_B.default.weight', 'base_model.model.esm.encoder.layer.4.LayerNorm.weight', 'base_model.model.esm.encoder.layer.5.LayerNorm.weight', 'base_model.model.esm.encoder.layer.0.attention.self.key.lora_B.default.weight', 'base_model.model.esm.encoder.layer.1.attention.self.query.weight', 'base_model.model.esm.encoder.layer.2.attention.self.query.weight', 'base_model.model.esm.encoder.emb_layer_norm_after.weight', 'base_model.model.esm.encoder.layer.4.attention.output.dense.weight', 'base_model.model.esm.encoder.layer.1.attention.self.key.lora_A.default.weight', 'base_model.model.esm.encoder.layer.1.attention.self.value.lora_B.default.weight', 'base_model.model.esm.encoder.layer.5.attention.LayerNorm.weight', 'base_model.model.esm.encoder.layer.3.output.dense.bias', 'base_model.model.esm.embeddings.word_embeddings.weight', 'base_model.model.esm.encoder.layer.3.attention.self.value.weight', 'base_model.model.esm.encoder.layer.3.attention.self.value.bias', 'base_model.model.esm.encoder.layer.4.attention.self.key.lora_B.default.weight', 'base_model.model.esm.encoder.layer.3.attention.self.query.lora_A.default.weight', 'base_model.model.esm.encoder.layer.3.attention.self.key.lora_A.default.weight', 'base_model.model.esm.contact_head.regression.weight', 'base_model.model.esm.encoder.layer.4.attention.self.value.lora_A.default.weight', 'base_model.model.esm.encoder.layer.0.attention.self.value.lora_A.default.weight', 'base_model.model.esm.encoder.layer.4.LayerNorm.bias', 'base_model.model.esm.encoder.layer.5.attention.LayerNorm.bias', 'base_model.model.esm.encoder.layer.0.attention.self.query.weight', 'base_model.model.esm.encoder.layer.3.attention.output.dense.bias', 'base_model.model.esm.encoder.layer.4.attention.output.dense.bias', 'base_model.model.esm.encoder.layer.4.attention.self.key.bias', 'base_model.model.esm.encoder.layer.3.attention.LayerNorm.bias', 'base_model.model.esm.encoder.layer.3.LayerNorm.bias', 'base_model.model.esm.encoder.layer.1.attention.self.rotary_embeddings.inv_freq', 'base_model.model.esm.encoder.layer.0.attention.self.query.bias', 'base_model.model.esm.encoder.layer.4.intermediate.dense.bias', 'base_model.model.esm.encoder.layer.1.attention.self.value.weight', 'base_model.model.esm.encoder.layer.1.output.dense.weight', 'base_model.model.esm.encoder.layer.0.attention.self.value.weight', 'base_model.model.esm.encoder.layer.3.attention.LayerNorm.weight', 'base_model.model.esm.encoder.layer.0.attention.self.rotary_embeddings.inv_freq', 'base_model.model.esm.encoder.layer.1.attention.self.key.bias', 'base_model.model.esm.encoder.layer.0.intermediate.dense.weight', 'base_model.model.esm.encoder.layer.0.attention.output.dense.bias', 'base_model.model.esm.encoder.layer.5.intermediate.dense.bias', 'base_model.model.esm.encoder.layer.0.attention.self.key.lora_A.default.weight', 'base_model.model.esm.encoder.layer.3.attention.self.query.bias', 'base_model.model.esm.encoder.emb_layer_norm_after.bias', 'base_model.model.esm.encoder.layer.5.attention.self.query.bias', 'base_model.model.esm.encoder.layer.1.attention.output.dense.weight', 'base_model.model.esm.encoder.layer.5.attention.self.key.lora_A.default.weight', 'base_model.model.esm.encoder.layer.5.attention.self.key.lora_B.default.weight', 'base_model.model.esm.encoder.layer.3.attention.self.value.lora_B.default.weight', 'base_model.model.esm.encoder.layer.3.attention.output.dense.weight', 'base_model.model.esm.encoder.layer.1.attention.LayerNorm.bias', 'base_model.model.esm.contact_head.regression.bias', 'base_model.model.esm.encoder.layer.4.attention.LayerNorm.weight', 'base_model.model.esm.encoder.layer.2.attention.self.key.bias', 'base_model.model.esm.encoder.layer.1.LayerNorm.bias', 'base_model.model.esm.encoder.layer.2.attention.self.key.lora_B.default.weight', 'base_model.model.esm.encoder.layer.2.output.dense.weight', 'base_model.model.esm.encoder.layer.4.attention.self.value.bias', 'base_model.model.esm.encoder.layer.2.intermediate.dense.bias', 'base_model.model.esm.encoder.layer.2.attention.self.value.lora_B.default.weight', 'base_model.model.esm.encoder.layer.4.output.dense.bias', 'base_model.model.esm.encoder.layer.3.intermediate.dense.bias', 'base_model.model.esm.encoder.layer.5.attention.self.key.bias', 'base_model.model.esm.encoder.layer.5.output.dense.weight', 'base_model.model.esm.encoder.layer.1.intermediate.dense.bias', 'base_model.model.esm.encoder.layer.2.attention.self.value.bias', 'base_model.model.classifier.modules_to_save.default.bias', 'base_model.model.esm.encoder.layer.0.output.dense.bias', 'base_model.model.esm.encoder.layer.1.intermediate.dense.weight', 'base_model.model.esm.encoder.layer.0.attention.LayerNorm.weight', 'base_model.model.esm.encoder.layer.5.attention.self.value.lora_B.default.weight', 'base_model.model.esm.encoder.layer.2.attention.output.dense.bias', 'base_model.model.esm.encoder.layer.5.attention.output.dense.bias', 'base_model.model.esm.encoder.layer.2.attention.self.key.lora_A.default.weight', 'base_model.model.esm.encoder.layer.5.attention.self.rotary_embeddings.inv_freq', 'base_model.model.esm.encoder.layer.1.attention.self.key.lora_B.default.weight', 'base_model.model.classifier.modules_to_save.default.weight', 'base_model.model.esm.encoder.layer.5.attention.output.dense.weight', 'base_model.model.esm.encoder.layer.0.attention.self.query.lora_A.default.weight', 'base_model.model.esm.encoder.layer.5.attention.self.query.weight', 'base_model.model.esm.encoder.layer.3.attention.self.query.lora_B.default.weight', 'base_model.model.esm.encoder.layer.1.attention.self.query.lora_A.default.weight', 'base_model.model.esm.encoder.layer.4.output.dense.weight', 'base_model.model.esm.encoder.layer.1.attention.self.query.lora_B.default.weight', 'base_model.model.esm.encoder.layer.2.LayerNorm.bias', 'base_model.model.esm.encoder.layer.5.attention.self.value.lora_A.default.weight', 'base_model.model.esm.encoder.layer.5.LayerNorm.bias', 'base_model.model.classifier.original_module.bias', 'base_model.model.esm.encoder.layer.3.output.dense.weight', 'base_model.model.esm.encoder.layer.3.intermediate.dense.weight', 'base_model.model.esm.encoder.layer.2.attention.self.query.bias', 'base_model.model.esm.encoder.layer.2.attention.self.value.lora_A.default.weight', 'base_model.model.esm.encoder.layer.0.attention.output.dense.weight', 'base_model.model.esm.encoder.layer.3.attention.self.key.lora_B.default.weight', 'base_model.model.esm.encoder.layer.4.attention.self.value.lora_B.default.weight', 'base_model.model.classifier.original_module.weight', 'base_model.model.esm.embeddings.position_ids', 'base_model.model.esm.encoder.layer.2.attention.LayerNorm.bias', 'base_model.model.esm.encoder.layer.1.attention.LayerNorm.weight', 'base_model.model.esm.encoder.layer.4.attention.self.query.weight', 'base_model.model.esm.encoder.layer.2.attention.LayerNorm.weight', 'base_model.model.esm.encoder.layer.0.attention.self.key.bias', 'base_model.model.esm.encoder.layer.0.LayerNorm.bias', 'base_model.model.esm.encoder.layer.3.attention.self.value.lora_A.default.weight', 'base_model.model.esm.encoder.layer.4.attention.self.rotary_embeddings.inv_freq', 'base_model.model.esm.encoder.layer.5.attention.self.value.bias', 'base_model.model.esm.encoder.layer.2.output.dense.bias', 'base_model.model.esm.encoder.layer.0.attention.self.value.lora_B.default.weight', 'base_model.model.esm.encoder.layer.4.attention.self.key.weight', 'base_model.model.esm.encoder.layer.4.attention.self.query.lora_A.default.weight', 'base_model.model.esm.encoder.layer.5.attention.self.value.weight', 'base_model.model.esm.encoder.layer.1.attention.self.value.lora_A.default.weight', 'base_model.model.esm.encoder.layer.3.attention.self.key.bias', 'base_model.model.esm.encoder.layer.1.attention.self.key.weight', 'base_model.model.esm.encoder.layer.2.attention.self.value.weight', 'base_model.model.esm.encoder.layer.2.attention.self.query.lora_B.default.weight', 'base_model.model.esm.encoder.layer.3.attention.self.rotary_embeddings.inv_freq', 'base_model.model.esm.encoder.layer.0.attention.LayerNorm.bias']\n",
      "- This IS expected if you are initializing EsmForTokenClassification from the checkpoint of a model trained on another task or with another architecture (e.g. initializing a BertForSequenceClassification model from a BertForPreTraining model).\n",
      "- This IS NOT expected if you are initializing EsmForTokenClassification from the checkpoint of a model that you expect to be exactly identical (initializing a BertForSequenceClassification model from a BertForSequenceClassification model).\n",
      "Some weights of EsmForTokenClassification were not initialized from the model checkpoint at esm2_t6_8M-finetuned-lora_2023-08-03_18-32-25 and are newly initialized: ['classifier.bias', 'classifier.weight']\n",
      "You should probably TRAIN this model on a down-stream task to be able to use it for predictions and inference.\n"
     ]
    },
    {
     "name": "stdout",
     "output_type": "stream",
     "text": [
      "Logits: tensor([[[-0.0129, -1.0568],\n",
      "         [-0.1939, -1.0755],\n",
      "         [-0.1680, -1.2451],\n",
      "         ...,\n",
      "         [-0.2310, -1.2410],\n",
      "         [-0.2309, -1.2415],\n",
      "         [-0.2307, -1.2408]]])\n",
      "Predicted binding sites: [0, 0, 0, 0, 0, 0, 0, 0, 0, 0, 0, 0, 0, 0, 0, 0, 0, 0, 0, 0, 0, 0]\n"
     ]
    }
   ],
   "source": [
    "from transformers import AutoModelForTokenClassification, AutoTokenizer\n",
    "import torch\n",
    "import numpy as np\n",
    "import random\n",
    "\n",
    "seed = 42\n",
    "torch.manual_seed(seed)\n",
    "torch.cuda.manual_seed_all(seed)\n",
    "torch.backends.cudnn.deterministic = True\n",
    "torch.backends.cudnn.benchmark = False\n",
    "np.random.seed(seed)\n",
    "random.seed(seed)\n",
    "\n",
    "# Path to the saved model\n",
    "model_path = \"esm2_t6_8M-finetuned-lora_2023-08-03_18-32-25\"\n",
    "\n",
    "# Load the model\n",
    "loaded_model = AutoModelForTokenClassification.from_pretrained(model_path)\n",
    "loaded_model.eval()  # Set the model to evaluation mode\n",
    "\n",
    "# Load the tokenizer\n",
    "loaded_tokenizer = AutoTokenizer.from_pretrained(model_path)\n",
    "\n",
    "# New unseen protein sequence\n",
    "new_protein_sequence = \"MADSEQNSEWKEVKEQKANRGW\"\n",
    "\n",
    "# Tokenize the new sequence\n",
    "inputs = loaded_tokenizer(new_protein_sequence, truncation=True, padding='max_length', max_length=512, return_tensors=\"pt\")\n",
    "\n",
    "# Make predictions\n",
    "with torch.no_grad():\n",
    "    outputs = loaded_model(**inputs)\n",
    "    logits = outputs.logits\n",
    "    predictions = torch.argmax(logits, dim=2)\n",
    "\n",
    "# Print logits for debugging\n",
    "print(\"Logits:\", logits)\n",
    "\n",
    "# Convert predictions to a list\n",
    "predicted_labels = predictions.squeeze().tolist()\n",
    "\n",
    "# Get input IDs to identify padding and special tokens\n",
    "input_ids = inputs['input_ids'].squeeze().tolist()\n",
    "\n",
    "# Define a set of token IDs that correspond to special tokens\n",
    "special_tokens_ids = {loaded_tokenizer.cls_token_id, loaded_tokenizer.pad_token_id, loaded_tokenizer.eos_token_id}\n",
    "\n",
    "# Filter the predicted labels using the special_tokens_ids to remove predictions for special tokens\n",
    "binding_sites = [label for label, token_id in zip(predicted_labels, input_ids) if token_id not in special_tokens_ids]\n",
    "\n",
    "print(\"Predicted binding sites:\", binding_sites)\n"
   ]
  },
  {
   "cell_type": "code",
   "execution_count": 45,
   "metadata": {},
   "outputs": [
    {
     "name": "stderr",
     "output_type": "stream",
     "text": [
      "Some weights of the model checkpoint at esm2_t6_8M-finetuned-lora_2023-08-03_18-32-25 were not used when initializing EsmForTokenClassification: ['base_model.model.esm.encoder.layer.4.attention.LayerNorm.bias', 'base_model.model.esm.encoder.layer.0.LayerNorm.weight', 'base_model.model.esm.encoder.layer.5.attention.self.query.lora_A.default.weight', 'base_model.model.esm.encoder.layer.0.attention.self.value.bias', 'base_model.model.esm.encoder.layer.1.attention.output.dense.bias', 'base_model.model.esm.encoder.layer.2.attention.self.rotary_embeddings.inv_freq', 'base_model.model.esm.encoder.layer.4.intermediate.dense.weight', 'base_model.model.esm.encoder.layer.0.intermediate.dense.bias', 'base_model.model.esm.encoder.layer.0.attention.self.key.weight', 'base_model.model.esm.encoder.layer.1.output.dense.bias', 'base_model.model.esm.encoder.layer.4.attention.self.key.lora_A.default.weight', 'base_model.model.esm.encoder.layer.3.attention.self.key.weight', 'base_model.model.esm.encoder.layer.1.LayerNorm.weight', 'base_model.model.esm.encoder.layer.3.LayerNorm.weight', 'base_model.model.esm.encoder.layer.0.attention.self.query.lora_B.default.weight', 'base_model.model.esm.encoder.layer.5.output.dense.bias', 'base_model.model.esm.encoder.layer.5.intermediate.dense.weight', 'base_model.model.esm.encoder.layer.4.attention.self.value.weight', 'base_model.model.esm.encoder.layer.4.attention.self.query.bias', 'base_model.model.esm.encoder.layer.2.attention.output.dense.weight', 'base_model.model.esm.encoder.layer.3.attention.self.query.weight', 'base_model.model.esm.encoder.layer.2.LayerNorm.weight', 'base_model.model.esm.encoder.layer.2.attention.self.query.lora_A.default.weight', 'base_model.model.esm.encoder.layer.5.attention.self.key.weight', 'base_model.model.esm.encoder.layer.1.attention.self.value.bias', 'base_model.model.esm.encoder.layer.0.output.dense.weight', 'base_model.model.esm.encoder.layer.2.attention.self.key.weight', 'base_model.model.esm.embeddings.position_embeddings.weight', 'base_model.model.esm.encoder.layer.2.intermediate.dense.weight', 'base_model.model.esm.encoder.layer.1.attention.self.query.bias', 'base_model.model.esm.encoder.layer.4.attention.self.query.lora_B.default.weight', 'base_model.model.esm.encoder.layer.5.attention.self.query.lora_B.default.weight', 'base_model.model.esm.encoder.layer.4.LayerNorm.weight', 'base_model.model.esm.encoder.layer.5.LayerNorm.weight', 'base_model.model.esm.encoder.layer.0.attention.self.key.lora_B.default.weight', 'base_model.model.esm.encoder.layer.1.attention.self.query.weight', 'base_model.model.esm.encoder.layer.2.attention.self.query.weight', 'base_model.model.esm.encoder.emb_layer_norm_after.weight', 'base_model.model.esm.encoder.layer.4.attention.output.dense.weight', 'base_model.model.esm.encoder.layer.1.attention.self.key.lora_A.default.weight', 'base_model.model.esm.encoder.layer.1.attention.self.value.lora_B.default.weight', 'base_model.model.esm.encoder.layer.5.attention.LayerNorm.weight', 'base_model.model.esm.encoder.layer.3.output.dense.bias', 'base_model.model.esm.embeddings.word_embeddings.weight', 'base_model.model.esm.encoder.layer.3.attention.self.value.weight', 'base_model.model.esm.encoder.layer.3.attention.self.value.bias', 'base_model.model.esm.encoder.layer.4.attention.self.key.lora_B.default.weight', 'base_model.model.esm.encoder.layer.3.attention.self.query.lora_A.default.weight', 'base_model.model.esm.encoder.layer.3.attention.self.key.lora_A.default.weight', 'base_model.model.esm.contact_head.regression.weight', 'base_model.model.esm.encoder.layer.4.attention.self.value.lora_A.default.weight', 'base_model.model.esm.encoder.layer.0.attention.self.value.lora_A.default.weight', 'base_model.model.esm.encoder.layer.4.LayerNorm.bias', 'base_model.model.esm.encoder.layer.5.attention.LayerNorm.bias', 'base_model.model.esm.encoder.layer.0.attention.self.query.weight', 'base_model.model.esm.encoder.layer.3.attention.output.dense.bias', 'base_model.model.esm.encoder.layer.4.attention.output.dense.bias', 'base_model.model.esm.encoder.layer.4.attention.self.key.bias', 'base_model.model.esm.encoder.layer.3.attention.LayerNorm.bias', 'base_model.model.esm.encoder.layer.3.LayerNorm.bias', 'base_model.model.esm.encoder.layer.1.attention.self.rotary_embeddings.inv_freq', 'base_model.model.esm.encoder.layer.0.attention.self.query.bias', 'base_model.model.esm.encoder.layer.4.intermediate.dense.bias', 'base_model.model.esm.encoder.layer.1.attention.self.value.weight', 'base_model.model.esm.encoder.layer.1.output.dense.weight', 'base_model.model.esm.encoder.layer.0.attention.self.value.weight', 'base_model.model.esm.encoder.layer.3.attention.LayerNorm.weight', 'base_model.model.esm.encoder.layer.0.attention.self.rotary_embeddings.inv_freq', 'base_model.model.esm.encoder.layer.1.attention.self.key.bias', 'base_model.model.esm.encoder.layer.0.intermediate.dense.weight', 'base_model.model.esm.encoder.layer.0.attention.output.dense.bias', 'base_model.model.esm.encoder.layer.5.intermediate.dense.bias', 'base_model.model.esm.encoder.layer.0.attention.self.key.lora_A.default.weight', 'base_model.model.esm.encoder.layer.3.attention.self.query.bias', 'base_model.model.esm.encoder.emb_layer_norm_after.bias', 'base_model.model.esm.encoder.layer.5.attention.self.query.bias', 'base_model.model.esm.encoder.layer.1.attention.output.dense.weight', 'base_model.model.esm.encoder.layer.5.attention.self.key.lora_A.default.weight', 'base_model.model.esm.encoder.layer.5.attention.self.key.lora_B.default.weight', 'base_model.model.esm.encoder.layer.3.attention.self.value.lora_B.default.weight', 'base_model.model.esm.encoder.layer.3.attention.output.dense.weight', 'base_model.model.esm.encoder.layer.1.attention.LayerNorm.bias', 'base_model.model.esm.contact_head.regression.bias', 'base_model.model.esm.encoder.layer.4.attention.LayerNorm.weight', 'base_model.model.esm.encoder.layer.2.attention.self.key.bias', 'base_model.model.esm.encoder.layer.1.LayerNorm.bias', 'base_model.model.esm.encoder.layer.2.attention.self.key.lora_B.default.weight', 'base_model.model.esm.encoder.layer.2.output.dense.weight', 'base_model.model.esm.encoder.layer.4.attention.self.value.bias', 'base_model.model.esm.encoder.layer.2.intermediate.dense.bias', 'base_model.model.esm.encoder.layer.2.attention.self.value.lora_B.default.weight', 'base_model.model.esm.encoder.layer.4.output.dense.bias', 'base_model.model.esm.encoder.layer.3.intermediate.dense.bias', 'base_model.model.esm.encoder.layer.5.attention.self.key.bias', 'base_model.model.esm.encoder.layer.5.output.dense.weight', 'base_model.model.esm.encoder.layer.1.intermediate.dense.bias', 'base_model.model.esm.encoder.layer.2.attention.self.value.bias', 'base_model.model.classifier.modules_to_save.default.bias', 'base_model.model.esm.encoder.layer.0.output.dense.bias', 'base_model.model.esm.encoder.layer.1.intermediate.dense.weight', 'base_model.model.esm.encoder.layer.0.attention.LayerNorm.weight', 'base_model.model.esm.encoder.layer.5.attention.self.value.lora_B.default.weight', 'base_model.model.esm.encoder.layer.2.attention.output.dense.bias', 'base_model.model.esm.encoder.layer.5.attention.output.dense.bias', 'base_model.model.esm.encoder.layer.2.attention.self.key.lora_A.default.weight', 'base_model.model.esm.encoder.layer.5.attention.self.rotary_embeddings.inv_freq', 'base_model.model.esm.encoder.layer.1.attention.self.key.lora_B.default.weight', 'base_model.model.classifier.modules_to_save.default.weight', 'base_model.model.esm.encoder.layer.5.attention.output.dense.weight', 'base_model.model.esm.encoder.layer.0.attention.self.query.lora_A.default.weight', 'base_model.model.esm.encoder.layer.5.attention.self.query.weight', 'base_model.model.esm.encoder.layer.3.attention.self.query.lora_B.default.weight', 'base_model.model.esm.encoder.layer.1.attention.self.query.lora_A.default.weight', 'base_model.model.esm.encoder.layer.4.output.dense.weight', 'base_model.model.esm.encoder.layer.1.attention.self.query.lora_B.default.weight', 'base_model.model.esm.encoder.layer.2.LayerNorm.bias', 'base_model.model.esm.encoder.layer.5.attention.self.value.lora_A.default.weight', 'base_model.model.esm.encoder.layer.5.LayerNorm.bias', 'base_model.model.classifier.original_module.bias', 'base_model.model.esm.encoder.layer.3.output.dense.weight', 'base_model.model.esm.encoder.layer.3.intermediate.dense.weight', 'base_model.model.esm.encoder.layer.2.attention.self.query.bias', 'base_model.model.esm.encoder.layer.2.attention.self.value.lora_A.default.weight', 'base_model.model.esm.encoder.layer.0.attention.output.dense.weight', 'base_model.model.esm.encoder.layer.3.attention.self.key.lora_B.default.weight', 'base_model.model.esm.encoder.layer.4.attention.self.value.lora_B.default.weight', 'base_model.model.classifier.original_module.weight', 'base_model.model.esm.embeddings.position_ids', 'base_model.model.esm.encoder.layer.2.attention.LayerNorm.bias', 'base_model.model.esm.encoder.layer.1.attention.LayerNorm.weight', 'base_model.model.esm.encoder.layer.4.attention.self.query.weight', 'base_model.model.esm.encoder.layer.2.attention.LayerNorm.weight', 'base_model.model.esm.encoder.layer.0.attention.self.key.bias', 'base_model.model.esm.encoder.layer.0.LayerNorm.bias', 'base_model.model.esm.encoder.layer.3.attention.self.value.lora_A.default.weight', 'base_model.model.esm.encoder.layer.4.attention.self.rotary_embeddings.inv_freq', 'base_model.model.esm.encoder.layer.5.attention.self.value.bias', 'base_model.model.esm.encoder.layer.2.output.dense.bias', 'base_model.model.esm.encoder.layer.0.attention.self.value.lora_B.default.weight', 'base_model.model.esm.encoder.layer.4.attention.self.key.weight', 'base_model.model.esm.encoder.layer.4.attention.self.query.lora_A.default.weight', 'base_model.model.esm.encoder.layer.5.attention.self.value.weight', 'base_model.model.esm.encoder.layer.1.attention.self.value.lora_A.default.weight', 'base_model.model.esm.encoder.layer.3.attention.self.key.bias', 'base_model.model.esm.encoder.layer.1.attention.self.key.weight', 'base_model.model.esm.encoder.layer.2.attention.self.value.weight', 'base_model.model.esm.encoder.layer.2.attention.self.query.lora_B.default.weight', 'base_model.model.esm.encoder.layer.3.attention.self.rotary_embeddings.inv_freq', 'base_model.model.esm.encoder.layer.0.attention.LayerNorm.bias']\n",
      "- This IS expected if you are initializing EsmForTokenClassification from the checkpoint of a model trained on another task or with another architecture (e.g. initializing a BertForSequenceClassification model from a BertForPreTraining model).\n",
      "- This IS NOT expected if you are initializing EsmForTokenClassification from the checkpoint of a model that you expect to be exactly identical (initializing a BertForSequenceClassification model from a BertForSequenceClassification model).\n",
      "Some weights of EsmForTokenClassification were not initialized from the model checkpoint at esm2_t6_8M-finetuned-lora_2023-08-03_18-32-25 and are newly initialized: ['classifier.bias', 'classifier.weight']\n",
      "You should probably TRAIN this model on a down-stream task to be able to use it for predictions and inference.\n"
     ]
    },
    {
     "name": "stdout",
     "output_type": "stream",
     "text": [
      "Validation Accuracy: 0.9586577181208054\n"
     ]
    }
   ],
   "source": [
    "import torch\n",
    "import numpy as np\n",
    "import xml.etree.ElementTree as ET\n",
    "from torch.utils.data import DataLoader\n",
    "from transformers import AutoTokenizer, EsmForTokenClassification\n",
    "from peft import LoraConfig, get_peft_model\n",
    "from sklearn.metrics import accuracy_score\n",
    "\n",
    "# Load XML file\n",
    "tree = ET.parse('binding_sites.xml')\n",
    "root = tree.getroot()\n",
    "\n",
    "# Define lists to hold sequences and binding site labels\n",
    "sequences = []\n",
    "binding_sites = []\n",
    "\n",
    "# Iterate through the XML and extract the sequences and binding site labels\n",
    "for partner in root.findall('partner'):\n",
    "    for bind_partner in partner.findall('BindPartner'):\n",
    "        sequence = bind_partner.find('proSeq').text\n",
    "        pro_bnd = bind_partner.find('proBnd').text\n",
    "        sites = [1 if char == '+' else 0 for char in pro_bnd]\n",
    "        sequences.append(sequence)\n",
    "        binding_sites.append(sites)\n",
    "\n",
    "tokenizer = AutoTokenizer.from_pretrained(\"facebook/esm2_t6_8M_UR50D\")\n",
    "\n",
    "class ProteinDataset(torch.utils.data.Dataset):\n",
    "    def __init__(self, sequences, binding_sites, tokenizer, max_length=512):\n",
    "        self.sequences = sequences\n",
    "        self.binding_sites = binding_sites\n",
    "        self.tokenizer = tokenizer\n",
    "        self.max_length = max_length\n",
    "\n",
    "    def __len__(self):\n",
    "        return len(self.sequences)\n",
    "\n",
    "    def __getitem__(self, idx):\n",
    "        sequence = self.sequences[idx][:self.max_length]\n",
    "        binding_site = self.binding_sites[idx][:self.max_length]\n",
    "        encoding = self.tokenizer(sequence, truncation=True, padding='max_length', max_length=self.max_length)\n",
    "        encoding['labels'] = binding_site + [-100] * (self.max_length - len(binding_site))\n",
    "        return {key: torch.tensor(val) for key, val in encoding.items()}\n",
    "\n",
    "# Assuming validation dataset was split as done previously\n",
    "val_size = int(0.15 * len(sequences))\n",
    "val_dataset = ProteinDataset(sequences[-val_size:], binding_sites[-val_size:], tokenizer)\n",
    "val_dataloader = DataLoader(val_dataset, batch_size=8)\n",
    "\n",
    "# Model directory where the model is saved\n",
    "model_dir = \"esm2_t6_8M-finetuned-lora_2023-08-03_18-32-25\"\n",
    "\n",
    "# Load the base model\n",
    "base_model = EsmForTokenClassification.from_pretrained(model_dir)\n",
    "\n",
    "# Apply LoRA wrapper\n",
    "lora_config = LoraConfig(\n",
    "    task_type=\"TOKEN_CLS\",\n",
    "    r=16,\n",
    "    lora_alpha=16,\n",
    "    target_modules=[\"query\", \"key\", \"value\"],\n",
    "    lora_dropout=0.1,\n",
    "    bias=\"all\",\n",
    ")\n",
    "best_model = get_peft_model(base_model, lora_config)\n",
    "\n",
    "# Path to the pytorch_model.bin file\n",
    "weights_path = model_dir + \"/pytorch_model.bin\"\n",
    "best_model.load_state_dict(torch.load(weights_path))\n",
    "\n",
    "# Get the device (CPU or GPU)\n",
    "device = torch.device(\"cuda\" if torch.cuda.is_available() else \"cpu\")\n",
    "\n",
    "# Move the model to the device\n",
    "best_model.to(device)\n",
    "\n",
    "# Evaluate the best model on the validation dataset\n",
    "best_model.eval()\n",
    "all_preds = []\n",
    "all_labels = []\n",
    "for batch in val_dataloader:\n",
    "    inputs = batch['input_ids'].to(device)\n",
    "    attention_mask = batch['attention_mask'].to(device)\n",
    "    labels = batch['labels'].to(device)\n",
    "    with torch.no_grad():\n",
    "        outputs = best_model(input_ids=inputs, attention_mask=attention_mask)\n",
    "        preds = torch.argmax(outputs.logits, dim=-1)\n",
    "        all_preds.extend(preds.cpu().tolist())\n",
    "        all_labels.extend(labels.cpu().tolist())\n",
    "\n",
    "# Flatten the lists and remove -100 (padding value)\n",
    "all_preds_flat = [item for sublist in all_preds for item in sublist]\n",
    "all_labels_flat = [item for sublist in all_labels for item in sublist]\n",
    "all_preds_flat = [p for p, l in zip(all_preds_flat, all_labels_flat) if l != -100]\n",
    "all_labels_flat = [l for l in all_labels_flat if l != -100]\n",
    "\n",
    "# Calculate the accuracy\n",
    "accuracy = accuracy_score(all_labels_flat, all_preds_flat)\n",
    "print(f\"Validation Accuracy: {accuracy}\")\n"
   ]
  },
  {
   "cell_type": "code",
   "execution_count": 49,
   "metadata": {},
   "outputs": [
    {
     "name": "stdout",
     "output_type": "stream",
     "text": [
      "Entire Dataset Accuracy: 0.9484533852476746\n"
     ]
    }
   ],
   "source": [
    "# Create the entire dataset using the sequences and binding sites\n",
    "entire_dataset = ProteinDataset(sequences, binding_sites, tokenizer)\n",
    "entire_dataloader = DataLoader(entire_dataset, batch_size=8)\n",
    "\n",
    "# Evaluate the best model on the entire dataset\n",
    "best_model.eval()\n",
    "all_preds = []\n",
    "all_labels = []\n",
    "for batch in entire_dataloader:\n",
    "    inputs = batch['input_ids'].to(device)\n",
    "    attention_mask = batch['attention_mask'].to(device)\n",
    "    labels = batch['labels'].to(device)\n",
    "    with torch.no_grad():\n",
    "        outputs = best_model(input_ids=inputs, attention_mask=attention_mask)\n",
    "        preds = torch.argmax(outputs.logits, dim=-1)\n",
    "        all_preds.extend(preds.cpu().tolist())\n",
    "        all_labels.extend(labels.cpu().tolist())\n",
    "\n",
    "# Flatten the lists and remove -100 (padding value)\n",
    "all_preds_flat = [item for sublist in all_preds for item in sublist]\n",
    "all_labels_flat = [item for sublist in all_labels for item in sublist]\n",
    "all_preds_flat = [p for p, l in zip(all_preds_flat, all_labels_flat) if l != -100]\n",
    "all_labels_flat = [l for l in all_labels_flat if l != -100]\n",
    "\n",
    "# Calculate the accuracy\n",
    "accuracy = accuracy_score(all_labels_flat, all_preds_flat)\n",
    "print(f\"Entire Dataset Accuracy: {accuracy}\")\n"
   ]
  }
 ],
 "metadata": {
  "kernelspec": {
   "display_name": "lora_esm_2",
   "language": "python",
   "name": "python3"
  },
  "language_info": {
   "codemirror_mode": {
    "name": "ipython",
    "version": 3
   },
   "file_extension": ".py",
   "mimetype": "text/x-python",
   "name": "python",
   "nbconvert_exporter": "python",
   "pygments_lexer": "ipython3",
   "version": "3.9.16"
  },
  "orig_nbformat": 4
 },
 "nbformat": 4,
 "nbformat_minor": 2
}
